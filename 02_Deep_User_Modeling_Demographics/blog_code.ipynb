{
 "cells": [
  {
   "cell_type": "code",
   "execution_count": 26,
   "metadata": {
    "collapsed": false
   },
   "outputs": [],
   "source": [
    "import keras\n",
    "from keras.layers import *\n",
    "from keras.models import Model\n",
    "from keras.optimizers import Adam\n",
    "\n",
    "import tensorflow as tf\n",
    "\n",
    "import numpy as np\n",
    "import pandas as pd "
   ]
  },
  {
   "cell_type": "code",
   "execution_count": 3,
   "metadata": {
    "collapsed": false
   },
   "outputs": [],
   "source": [
    "num_users = 1000\n",
    "max_len = 50\n",
    "num_categories = 100\n",
    "category_sequences = [\n",
    "    np.random.randint(0, num_categories, np.random.randint(max_len)) \n",
    "    for _ in range(num_users)\n",
    "]"
   ]
  },
  {
   "cell_type": "code",
   "execution_count": 8,
   "metadata": {
    "collapsed": false
   },
   "outputs": [
    {
     "name": "stdout",
     "output_type": "stream",
     "text": [
      "[72 87 81 90 81 20 52 21 20  2 87 61 90 71 84 25 76 41 78 98]\n"
     ]
    }
   ],
   "source": [
    "print(category_sequences[0])"
   ]
  },
  {
   "cell_type": "code",
   "execution_count": null,
   "metadata": {
    "collapsed": true
   },
   "outputs": [],
   "source": [
    "keras.layers.Embedding(num_categories, embedding_dim)"
   ]
  },
  {
   "cell_type": "code",
   "execution_count": null,
   "metadata": {
    "collapsed": true
   },
   "outputs": [],
   "source": [
    "embedding_matrix = tf.get_variable(“embeddings”, [num_categories, embedding_dim])\n",
    "embeddings = tf.nn.embedding_lookup(embedding_matrix, category_sequence_goes_here)"
   ]
  },
  {
   "cell_type": "code",
   "execution_count": null,
   "metadata": {
    "collapsed": true
   },
   "outputs": [],
   "source": [
    "def to_fractions(sequence):\n",
    "    return pd.Series(sequence).value_counts() / len(sequence)\n",
    "    \n",
    "fractions = pd.DataFrame([to_fractions(seq) for seq in category_sequences]).fillna(0)"
   ]
  },
  {
   "cell_type": "code",
   "execution_count": 27,
   "metadata": {
    "collapsed": true
   },
   "outputs": [],
   "source": [
    "def deep_user_multiple_sequences(input_sizes, output_sizes, embedding_sizes, depth=(100, 100)):\n",
    "\n",
    "    # The inputs are not actually sequences! they are the distribution over sequence objects...\n",
    "    inputs = [Input(shape=(s,)) for s in input_sizes]\n",
    "\n",
    "    # Each input is then embedded into its own space (relu necessary because we feed into a linear layer)\n",
    "    embeddings = [Dense(emb_size, activation='relu')(input) for emb_size, input in zip(embedding_sizes, inputs)]\n",
    "\n",
    "    # Concat everything\n",
    "    everything = concatenate(embeddings)\n",
    "\n",
    "    # Add in additional layers\n",
    "    for layer_size in depth:\n",
    "        everything = Dense(layer_size, activation='relu')(everything)\n",
    "\n",
    "    # Go to output\n",
    "    outputs = [Dense(out_size, activation='softmax')(everything) for out_size in output_sizes]\n",
    "\n",
    "    # Build, print, and return model\n",
    "    model = Model(inputs=inputs, outputs=outputs)\n",
    "    model.summary()\n",
    "    model.compile(loss='categorical_crossentropy', optimizer=Adam(), metrics=['accuracy'])\n",
    "    return model"
   ]
  },
  {
   "cell_type": "code",
   "execution_count": 28,
   "metadata": {
    "collapsed": false
   },
   "outputs": [
    {
     "name": "stdout",
     "output_type": "stream",
     "text": [
      "__________________________________________________________________________________________________\n",
      "Layer (type)                    Output Shape         Param #     Connected to                     \n",
      "==================================================================================================\n",
      "input_1 (InputLayer)            (None, 100)          0                                            \n",
      "__________________________________________________________________________________________________\n",
      "input_2 (InputLayer)            (None, 50)           0                                            \n",
      "__________________________________________________________________________________________________\n",
      "dense_1 (Dense)                 (None, 100)          10100       input_1[0][0]                    \n",
      "__________________________________________________________________________________________________\n",
      "dense_2 (Dense)                 (None, 100)          5100        input_2[0][0]                    \n",
      "__________________________________________________________________________________________________\n",
      "concatenate_1 (Concatenate)     (None, 200)          0           dense_1[0][0]                    \n",
      "                                                                 dense_2[0][0]                    \n",
      "__________________________________________________________________________________________________\n",
      "dense_3 (Dense)                 (None, 100)          20100       concatenate_1[0][0]              \n",
      "__________________________________________________________________________________________________\n",
      "dense_4 (Dense)                 (None, 100)          10100       dense_3[0][0]                    \n",
      "__________________________________________________________________________________________________\n",
      "dense_5 (Dense)                 (None, 4)            404         dense_4[0][0]                    \n",
      "__________________________________________________________________________________________________\n",
      "dense_6 (Dense)                 (None, 3)            303         dense_4[0][0]                    \n",
      "==================================================================================================\n",
      "Total params: 46,107\n",
      "Trainable params: 46,107\n",
      "Non-trainable params: 0\n",
      "__________________________________________________________________________________________________\n"
     ]
    }
   ],
   "source": [
    "my_model = deep_user_multiple_sequences(input_sizes=(100, 50), \n",
    "                                        output_sizes=(4, 3), \n",
    "                                        embedding_sizes=(100, 100))"
   ]
  },
  {
   "cell_type": "code",
   "execution_count": null,
   "metadata": {
    "collapsed": true
   },
   "outputs": [],
   "source": []
  }
 ],
 "metadata": {
  "kernelspec": {
   "display_name": "Python 2",
   "language": "python",
   "name": "python2"
  },
  "language_info": {
   "codemirror_mode": {
    "name": "ipython",
    "version": 2
   },
   "file_extension": ".py",
   "mimetype": "text/x-python",
   "name": "python",
   "nbconvert_exporter": "python",
   "pygments_lexer": "ipython2",
   "version": "2.7.13"
  }
 },
 "nbformat": 4,
 "nbformat_minor": 2
}
